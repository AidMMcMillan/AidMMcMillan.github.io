{
 "cells": [
  {
   "cell_type": "raw",
   "id": "11bdbd53-984f-472e-881b-3613f0b882a6",
   "metadata": {},
   "source": [
    "---\n",
    "title: \"Blog 5: Auditing Allocative Bias\"\n",
    "author: Aidan McMillan\n",
    "date: '2023-05-23'\n",
    "categories:\n",
    "    - Weekly Blogs\n",
    "image: \"image.jpg\"\n",
    "description: \"In this blog post I will be training a model and auditing it to asses its bias.\"\n",
    "format: html\n",
    "---"
   ]
  },
  {
   "cell_type": "markdown",
   "id": "a2955ab2-3713-477d-abbd-782543ea2387",
   "metadata": {
    "tags": []
   },
   "source": [
    "[GitHub link](https://github.com/AidMMcMillan/AidMMcMillan.github.io/blob/main/posts/blog3)\n",
    "\n",
    "In this blog post I will be training a model to predict income categories based on certain demographic characteristics and then auditing the model to asses its bias with respect to other demographic characteristics (in this case I will be assesing gender bias).\n",
    "\n",
    "# Loading and Preparing Data\n",
    "\n",
    "In order to start working with the data, I first have to prepare it for training. In this blog post I will be using demographic data from the American Community Survey’s Public Use Microdata Sample (PUMS). This data is accesible thorugh the `folktables` package. I decided to work with Connecticut's 2018 survey data, since that is the state I am from."
   ]
  },
  {
   "cell_type": "code",
   "execution_count": 186,
   "id": "9f0146ed-e0d9-41e7-a972-c28e376dabef",
   "metadata": {},
   "outputs": [],
   "source": [
    "from folktables import ACSDataSource, BasicProblem, adult_filter\n",
    "import numpy as np\n",
    "\n",
    "STATE = \"CT\"\n",
    "\n",
    "data_source = ACSDataSource(survey_year=\"2018\", \n",
    "                            horizon=\"1-Year\", \n",
    "                            survey=\"person\")\n",
    "\n",
    "acs_data = data_source.get_data(states=[STATE], download=True)"
   ]
  },
  {
   "cell_type": "markdown",
   "id": "46e6b277-71bf-488d-a45c-a0484739294f",
   "metadata": {},
   "source": [
    "This is how that the first few rows of that data look:"
   ]
  },
  {
   "cell_type": "code",
   "execution_count": 187,
   "id": "58a2eb55-246d-4acd-927d-efc64db22c69",
   "metadata": {},
   "outputs": [
    {
     "data": {
      "text/html": [
       "<div>\n",
       "<style scoped>\n",
       "    .dataframe tbody tr th:only-of-type {\n",
       "        vertical-align: middle;\n",
       "    }\n",
       "\n",
       "    .dataframe tbody tr th {\n",
       "        vertical-align: top;\n",
       "    }\n",
       "\n",
       "    .dataframe thead th {\n",
       "        text-align: right;\n",
       "    }\n",
       "</style>\n",
       "<table border=\"1\" class=\"dataframe\">\n",
       "  <thead>\n",
       "    <tr style=\"text-align: right;\">\n",
       "      <th></th>\n",
       "      <th>RT</th>\n",
       "      <th>SERIALNO</th>\n",
       "      <th>DIVISION</th>\n",
       "      <th>SPORDER</th>\n",
       "      <th>PUMA</th>\n",
       "      <th>REGION</th>\n",
       "      <th>ST</th>\n",
       "      <th>ADJINC</th>\n",
       "      <th>PWGTP</th>\n",
       "      <th>AGEP</th>\n",
       "      <th>...</th>\n",
       "      <th>PWGTP71</th>\n",
       "      <th>PWGTP72</th>\n",
       "      <th>PWGTP73</th>\n",
       "      <th>PWGTP74</th>\n",
       "      <th>PWGTP75</th>\n",
       "      <th>PWGTP76</th>\n",
       "      <th>PWGTP77</th>\n",
       "      <th>PWGTP78</th>\n",
       "      <th>PWGTP79</th>\n",
       "      <th>PWGTP80</th>\n",
       "    </tr>\n",
       "  </thead>\n",
       "  <tbody>\n",
       "    <tr>\n",
       "      <th>0</th>\n",
       "      <td>P</td>\n",
       "      <td>2018GQ0000191</td>\n",
       "      <td>1</td>\n",
       "      <td>1</td>\n",
       "      <td>302</td>\n",
       "      <td>1</td>\n",
       "      <td>9</td>\n",
       "      <td>1013097</td>\n",
       "      <td>40</td>\n",
       "      <td>90</td>\n",
       "      <td>...</td>\n",
       "      <td>82</td>\n",
       "      <td>39</td>\n",
       "      <td>38</td>\n",
       "      <td>81</td>\n",
       "      <td>0</td>\n",
       "      <td>38</td>\n",
       "      <td>0</td>\n",
       "      <td>0</td>\n",
       "      <td>36</td>\n",
       "      <td>34</td>\n",
       "    </tr>\n",
       "    <tr>\n",
       "      <th>1</th>\n",
       "      <td>P</td>\n",
       "      <td>2018GQ0000285</td>\n",
       "      <td>1</td>\n",
       "      <td>1</td>\n",
       "      <td>101</td>\n",
       "      <td>1</td>\n",
       "      <td>9</td>\n",
       "      <td>1013097</td>\n",
       "      <td>70</td>\n",
       "      <td>18</td>\n",
       "      <td>...</td>\n",
       "      <td>69</td>\n",
       "      <td>134</td>\n",
       "      <td>7</td>\n",
       "      <td>70</td>\n",
       "      <td>6</td>\n",
       "      <td>68</td>\n",
       "      <td>141</td>\n",
       "      <td>68</td>\n",
       "      <td>132</td>\n",
       "      <td>145</td>\n",
       "    </tr>\n",
       "    <tr>\n",
       "      <th>2</th>\n",
       "      <td>P</td>\n",
       "      <td>2018GQ0000328</td>\n",
       "      <td>1</td>\n",
       "      <td>1</td>\n",
       "      <td>1101</td>\n",
       "      <td>1</td>\n",
       "      <td>9</td>\n",
       "      <td>1013097</td>\n",
       "      <td>17</td>\n",
       "      <td>54</td>\n",
       "      <td>...</td>\n",
       "      <td>37</td>\n",
       "      <td>35</td>\n",
       "      <td>16</td>\n",
       "      <td>16</td>\n",
       "      <td>0</td>\n",
       "      <td>17</td>\n",
       "      <td>18</td>\n",
       "      <td>19</td>\n",
       "      <td>18</td>\n",
       "      <td>16</td>\n",
       "    </tr>\n",
       "    <tr>\n",
       "      <th>3</th>\n",
       "      <td>P</td>\n",
       "      <td>2018GQ0000360</td>\n",
       "      <td>1</td>\n",
       "      <td>1</td>\n",
       "      <td>905</td>\n",
       "      <td>1</td>\n",
       "      <td>9</td>\n",
       "      <td>1013097</td>\n",
       "      <td>47</td>\n",
       "      <td>18</td>\n",
       "      <td>...</td>\n",
       "      <td>46</td>\n",
       "      <td>48</td>\n",
       "      <td>4</td>\n",
       "      <td>90</td>\n",
       "      <td>87</td>\n",
       "      <td>84</td>\n",
       "      <td>90</td>\n",
       "      <td>3</td>\n",
       "      <td>47</td>\n",
       "      <td>48</td>\n",
       "    </tr>\n",
       "    <tr>\n",
       "      <th>4</th>\n",
       "      <td>P</td>\n",
       "      <td>2018GQ0000428</td>\n",
       "      <td>1</td>\n",
       "      <td>1</td>\n",
       "      <td>903</td>\n",
       "      <td>1</td>\n",
       "      <td>9</td>\n",
       "      <td>1013097</td>\n",
       "      <td>35</td>\n",
       "      <td>96</td>\n",
       "      <td>...</td>\n",
       "      <td>32</td>\n",
       "      <td>35</td>\n",
       "      <td>36</td>\n",
       "      <td>71</td>\n",
       "      <td>36</td>\n",
       "      <td>3</td>\n",
       "      <td>37</td>\n",
       "      <td>2</td>\n",
       "      <td>2</td>\n",
       "      <td>35</td>\n",
       "    </tr>\n",
       "  </tbody>\n",
       "</table>\n",
       "<p>5 rows × 286 columns</p>\n",
       "</div>"
      ],
      "text/plain": [
       "  RT       SERIALNO  DIVISION  SPORDER  PUMA  REGION  ST   ADJINC  PWGTP  \\\n",
       "0  P  2018GQ0000191         1        1   302       1   9  1013097     40   \n",
       "1  P  2018GQ0000285         1        1   101       1   9  1013097     70   \n",
       "2  P  2018GQ0000328         1        1  1101       1   9  1013097     17   \n",
       "3  P  2018GQ0000360         1        1   905       1   9  1013097     47   \n",
       "4  P  2018GQ0000428         1        1   903       1   9  1013097     35   \n",
       "\n",
       "   AGEP  ...  PWGTP71  PWGTP72  PWGTP73  PWGTP74  PWGTP75  PWGTP76  PWGTP77  \\\n",
       "0    90  ...       82       39       38       81        0       38        0   \n",
       "1    18  ...       69      134        7       70        6       68      141   \n",
       "2    54  ...       37       35       16       16        0       17       18   \n",
       "3    18  ...       46       48        4       90       87       84       90   \n",
       "4    96  ...       32       35       36       71       36        3       37   \n",
       "\n",
       "   PWGTP78  PWGTP79  PWGTP80  \n",
       "0        0       36       34  \n",
       "1       68      132      145  \n",
       "2       19       18       16  \n",
       "3        3       47       48  \n",
       "4        2        2       35  \n",
       "\n",
       "[5 rows x 286 columns]"
      ]
     },
     "execution_count": 187,
     "metadata": {},
     "output_type": "execute_result"
    }
   ],
   "source": [
    "acs_data.head()"
   ]
  },
  {
   "cell_type": "markdown",
   "id": "44f3cdcf-eb0c-466e-8d2c-7e8db3a239e4",
   "metadata": {},
   "source": [
    "Now I will select only the relevant features from the dataset, using the reccomendations from the [paper](https://arxiv.org/pdf/2108.04884.pdf) provided in the blog's instructions. "
   ]
  },
  {
   "cell_type": "code",
   "execution_count": 188,
   "id": "ae050682-f1f2-46de-9022-bafe7593b181",
   "metadata": {},
   "outputs": [
    {
     "data": {
      "text/html": [
       "<div>\n",
       "<style scoped>\n",
       "    .dataframe tbody tr th:only-of-type {\n",
       "        vertical-align: middle;\n",
       "    }\n",
       "\n",
       "    .dataframe tbody tr th {\n",
       "        vertical-align: top;\n",
       "    }\n",
       "\n",
       "    .dataframe thead th {\n",
       "        text-align: right;\n",
       "    }\n",
       "</style>\n",
       "<table border=\"1\" class=\"dataframe\">\n",
       "  <thead>\n",
       "    <tr style=\"text-align: right;\">\n",
       "      <th></th>\n",
       "      <th>AGEP</th>\n",
       "      <th>COW</th>\n",
       "      <th>SCHL</th>\n",
       "      <th>MAR</th>\n",
       "      <th>OCCP</th>\n",
       "      <th>POBP</th>\n",
       "      <th>RELP</th>\n",
       "      <th>WKHP</th>\n",
       "      <th>SEX</th>\n",
       "      <th>RAC1P</th>\n",
       "    </tr>\n",
       "  </thead>\n",
       "  <tbody>\n",
       "    <tr>\n",
       "      <th>0</th>\n",
       "      <td>90</td>\n",
       "      <td>NaN</td>\n",
       "      <td>16.0</td>\n",
       "      <td>5</td>\n",
       "      <td>NaN</td>\n",
       "      <td>9</td>\n",
       "      <td>17</td>\n",
       "      <td>NaN</td>\n",
       "      <td>2</td>\n",
       "      <td>1</td>\n",
       "    </tr>\n",
       "    <tr>\n",
       "      <th>1</th>\n",
       "      <td>18</td>\n",
       "      <td>4.0</td>\n",
       "      <td>16.0</td>\n",
       "      <td>5</td>\n",
       "      <td>3550.0</td>\n",
       "      <td>36</td>\n",
       "      <td>17</td>\n",
       "      <td>18.0</td>\n",
       "      <td>2</td>\n",
       "      <td>1</td>\n",
       "    </tr>\n",
       "    <tr>\n",
       "      <th>2</th>\n",
       "      <td>54</td>\n",
       "      <td>NaN</td>\n",
       "      <td>17.0</td>\n",
       "      <td>5</td>\n",
       "      <td>NaN</td>\n",
       "      <td>9</td>\n",
       "      <td>17</td>\n",
       "      <td>NaN</td>\n",
       "      <td>1</td>\n",
       "      <td>2</td>\n",
       "    </tr>\n",
       "    <tr>\n",
       "      <th>3</th>\n",
       "      <td>18</td>\n",
       "      <td>1.0</td>\n",
       "      <td>19.0</td>\n",
       "      <td>5</td>\n",
       "      <td>4030.0</td>\n",
       "      <td>303</td>\n",
       "      <td>17</td>\n",
       "      <td>2.0</td>\n",
       "      <td>1</td>\n",
       "      <td>1</td>\n",
       "    </tr>\n",
       "    <tr>\n",
       "      <th>4</th>\n",
       "      <td>96</td>\n",
       "      <td>NaN</td>\n",
       "      <td>16.0</td>\n",
       "      <td>2</td>\n",
       "      <td>NaN</td>\n",
       "      <td>9</td>\n",
       "      <td>16</td>\n",
       "      <td>NaN</td>\n",
       "      <td>2</td>\n",
       "      <td>1</td>\n",
       "    </tr>\n",
       "  </tbody>\n",
       "</table>\n",
       "</div>"
      ],
      "text/plain": [
       "   AGEP  COW  SCHL  MAR    OCCP  POBP  RELP  WKHP  SEX  RAC1P\n",
       "0    90  NaN  16.0    5     NaN     9    17   NaN    2      1\n",
       "1    18  4.0  16.0    5  3550.0    36    17  18.0    2      1\n",
       "2    54  NaN  17.0    5     NaN     9    17   NaN    1      2\n",
       "3    18  1.0  19.0    5  4030.0   303    17   2.0    1      1\n",
       "4    96  NaN  16.0    2     NaN     9    16   NaN    2      1"
      ]
     },
     "execution_count": 188,
     "metadata": {},
     "output_type": "execute_result"
    }
   ],
   "source": [
    "possible_features = [\n",
    "        \"AGEP\",\n",
    "        \"COW\",\n",
    "        \"SCHL\",\n",
    "        \"MAR\",\n",
    "        \"OCCP\",\n",
    "        \"POBP\",\n",
    "        \"RELP\",\n",
    "        \"WKHP\",\n",
    "        \"SEX\",\n",
    "        \"RAC1P\",\n",
    "    ]\n",
    "\n",
    "acs_data[possible_features].head()"
   ]
  },
  {
   "cell_type": "markdown",
   "id": "b4d3285d-8f94-43be-8fe0-d2c365e99264",
   "metadata": {},
   "source": [
    "### Data Observations\n",
    "\n",
    "Now that the data is ready, I will define my problem using foklore's `BasicProblem` class. Within the class I will create a target vector where 1 means the person makes avobe 50k/year and 0 means they make less than 50k/year. I also pass the data through a filter that removes any non-working adults."
   ]
  },
  {
   "cell_type": "code",
   "execution_count": 189,
   "id": "4d0dc6f6-3cec-477c-bbf0-6e2381d2327b",
   "metadata": {},
   "outputs": [],
   "source": [
    "from sklearn.model_selection import train_test_split\n",
    "\n",
    "features_to_use = [f for f in possible_features if f not in [\"PINCP\", \"SEX\"]]\n",
    "\n",
    "EmploymentProblem = BasicProblem(\n",
    "    features=features_to_use,\n",
    "    target=\"PINCP\",\n",
    "    target_transform=lambda x: x > 50000, # Create target vector based on 50k/year treshold\n",
    "    group=\"SEX\",\n",
    "    preprocess=adult_filter, # Filter data to only include working adults\n",
    "    postprocess=lambda x: np.nan_to_num(x, -1),\n",
    ")\n",
    "\n",
    "features, label, group = EmploymentProblem.df_to_numpy(acs_data) # Convert data to numpy array\n",
    "\n",
    "#Train/test split\n",
    "X_train, X_test, y_train, y_test, group_train, group_test = train_test_split(\n",
    "    features, label, group, test_size=0.2, random_state=0)"
   ]
  },
  {
   "cell_type": "markdown",
   "id": "ca354ca7-7968-46d7-9eec-2393ea9c1aff",
   "metadata": {},
   "source": [
    "Now I will convert the data to a `pandas DataFrame` to dig into describe some aspects of the data set. First I will check the number of respondents in the data set and check what percentage of the respondants have an income over 50%."
   ]
  },
  {
   "cell_type": "code",
   "execution_count": 190,
   "id": "8b16c4d5-9fd3-4ca5-9510-63d1e064a85d",
   "metadata": {},
   "outputs": [
    {
     "name": "stdout",
     "output_type": "stream",
     "text": [
      "Number of respondents used in data set = 15828\n",
      "Percent respondents w/ income > 50k/year = 48.05%\n"
     ]
    }
   ],
   "source": [
    "import pandas as pd\n",
    "\n",
    "# Convert data to pandas DataFrame\n",
    "df = pd.DataFrame(X_train, columns = features_to_use)\n",
    "df[\"group\"] = group_train\n",
    "df[\"label\"] = y_train\n",
    "\n",
    "# Calculate number of respondents\n",
    "n_respondents = df.shape[0]\n",
    "n_over50k = (y_train==1).sum()\n",
    "\n",
    "print(f\"Number of respondents used in data set = {n_respondents}\")\n",
    "print(f\"Percent respondents w/ income > 50k/year = {(n_over50k/n_respondents).round(4)*100}%\")"
   ]
  },
  {
   "cell_type": "markdown",
   "id": "f306f7f4-670c-4c69-80aa-1fa7852970ad",
   "metadata": {},
   "source": [
    "As we can see from above, roughly half of the 15828 respondants reported that they had an income over 50k/year. Next I will split the data into male and female in order to see id there are discrepancies in the data based on sex.\n",
    "\n",
    "*For the sake of this blog post I will be looking at binary gender, because that is the data available. Furthermore, because I am not sure how the data is collected, I do not know if the* `SEX` *feature refers to gender identity or biological sex.*"
   ]
  },
  {
   "cell_type": "code",
   "execution_count": 191,
   "id": "0ea15060-b778-45ac-acd6-45822970e1f9",
   "metadata": {},
   "outputs": [
    {
     "name": "stdout",
     "output_type": "stream",
     "text": [
      "# of males: 8018\n",
      "# of females: 7810\n",
      "\n",
      "% of males >50k/year: 0.5481\n",
      "% of femmales >50k/year: 0.411\n"
     ]
    },
    {
     "data": {
      "image/png": "[encoded data removed]",
      "text/plain": [
       "<Figure size 640x480 with 1 Axes>"
      ]
     },
     "metadata": {},
     "output_type": "display_data"
    }
   ],
   "source": [
    "import seaborn as sns\n",
    "import matplotlib.pyplot as plt\n",
    "\n",
    "gender_labels = {1: \"Male\", 2: \"Female\"}\n",
    "\n",
    "gb = df.groupby([\"group\"]).size()\n",
    "print(f\"# of males: {gb[1]}\")\n",
    "print(f\"# of females: {gb[2]}\")\n",
    "\n",
    "# Count the number of people in each group based on gender and income category\n",
    "gb1 = df.groupby([\"group\", \"label\"]).size().unstack()\n",
    "\n",
    "percentages = df.groupby(['group'])['label'].mean()\n",
    "male_percent = percentages[1]\n",
    "female_percent = percentages[2]\n",
    "\n",
    "print(f\"\\n% of males >50k/year: {male_percent.round(4)}\")\n",
    "print(f\"% of femmales >50k/year: {female_percent.round(4)}\")\n",
    "\n",
    "# Plot the bar chart using Seaborn\n",
    "sns.set_style(\"whitegrid\")\n",
    "ax = gb1.plot(kind=\"bar\")\n",
    "\n",
    "# Set labels and title\n",
    "ax.set_xlabel(\"Gender\")\n",
    "ax.set_ylabel(\"Number of Respondents\")\n",
    "ax.set_title(\"Number of Respondents in Each Group by Gender and Income Category\")\n",
    "\n",
    "# Set custom tick labels for gender\n",
    "ax.set_xticklabels([\"Male\", \"Female\"])\n",
    "\n",
    "# Set legend\n",
    "ax.legend([\"< 50K\", \"> 50K\"])\n",
    "\n",
    "# Show the plot\n",
    "plt.show()"
   ]
  },
  {
   "cell_type": "markdown",
   "id": "bf313488-a26f-4197-a809-6eefd6a83c90",
   "metadata": {},
   "source": [
    "These numbers and chart show a clear discrepancy between incomes of men and women. This may lead to allocative bias in certain implementations of this classification task, something I will talk about later in the blog post. \n",
    "\n",
    "Although I will be auditing for gender bias, it is important to look at various groups when assesing the data. Therefore, I will take a dive into the intersectional groupings of this data by looking at both race and gender. First, I will look at the number of people in each group by income and race.\n",
    "\n",
    "*I will note that I combined the following least represented racial categories into one group called \"other\" in order to better visualise the data:*\n",
    "\n",
    "- *American Indian alone*\n",
    "- *Alaska Native alone*\n",
    "- *American Indian and Alaska Native tribes specified, or American Indian or Alaska Native, not specified and no other race*\n",
    "- *Native Hawaiian and Other Pacific Islander alone*\n",
    "- *Some Other Race alone*\n",
    "- *Two or More Races*\n",
    "\n",
    "*I did this in order to simplify visualisation. I understand the importance of including these groups as seperate in the data, and ackgnowledge there could be nuances lost by grouping them together. I thought this choice would make it easier for the reader to understand the data.*\n",
    "\n",
    "*Furthermore this data does not make the distinction between hispanic and non-hispanic respondents of each racial category. This could also lead to lost nuance when analyzing the data*"
   ]
  },
  {
   "cell_type": "code",
   "execution_count": 192,
   "id": "0cc890f8-350c-4525-9fb1-99c9a0c38c01",
   "metadata": {},
   "outputs": [
    {
     "name": "stdout",
     "output_type": "stream",
     "text": [
      "label        False  True \n",
      "group Race               \n",
      "1     Aisan    147    213\n",
      "      Black    370    165\n",
      "      Other    356    118\n",
      "      White   2750   3899\n",
      "2     Aisan    197    161\n",
      "      Black    505    207\n",
      "      Other    374     89\n",
      "      White   3524   2753\n"
     ]
    },
    {
     "data": {
      "image/png": "[encoded data removed]",
      "text/plain": [
       "<Figure size 640x480 with 1 Axes>"
      ]
     },
     "metadata": {},
     "output_type": "display_data"
    }
   ],
   "source": [
    "race_labels = {\n",
    "    1: \"White\",\n",
    "    2: \"Black\",\n",
    "    6: \"Aisan\",\n",
    "    **dict.fromkeys([3, 4, 5, 7, 8, 9], \"Other\"),\n",
    "}\n",
    "\n",
    "df[\"Race\"] = df[\"RAC1P\"].map(race_labels)\n",
    "\n",
    "group_counts = df.groupby([\"group\", \"Race\", \"label\"]).size().unstack().fillna(0)\n",
    "\n",
    "print(group_counts)\n",
    "\n",
    "# Plot the bar chart using Seaborn\n",
    "sns.set_style(\"whitegrid\")\n",
    "ax = group_counts.plot(kind=\"bar\")\n",
    "\n",
    "# Set labels and title\n",
    "ax.set_xlabel(\"Gender and Race\")\n",
    "ax.set_ylabel(\"Number of Respondents\")\n",
    "ax.set_title(\"Number of Respondents Earning > 50k/year by Gender and Race\")\n",
    "\n",
    "# Set custom tick labels for gender and race\n",
    "ax.set_xticklabels([(gender_labels[x[0]] + ', ' + x[1]) for x in group_counts.index], rotation=45)\n",
    "\n",
    "# Set legend\n",
    "ax.legend([\"< 50K\", \"> 50K\"])\n",
    "\n",
    "# Show the plot\n",
    "plt.show()"
   ]
  },
  {
   "cell_type": "markdown",
   "id": "e1634abf-5fb6-4dbd-a273-205810b604c7",
   "metadata": {},
   "source": [
    "This graph clearly shows that there are is low representation of minority races in the dataset. This could definately lead to a decreasing classification accuracy for minority groups. We can also see a discrepency issue in incomes between white and asian respondents and respondents in the other groups. This becomes even more clear in the next graph:"
   ]
  },
  {
   "cell_type": "code",
   "execution_count": 193,
   "id": "6523eda3-6c88-426b-b1ad-ed250e1d715c",
   "metadata": {},
   "outputs": [
    {
     "name": "stdout",
     "output_type": "stream",
     "text": [
      "Race      Aisan     Black     Other     White\n",
      "group                                        \n",
      "1      0.591667  0.308411  0.248945  0.586404\n",
      "2      0.449721  0.290730  0.192225  0.438585\n"
     ]
    },
    {
     "data": {
      "image/png": "[encoded data removed]",
      "text/plain": [
       "<Figure size 640x480 with 1 Axes>"
      ]
     },
     "metadata": {},
     "output_type": "display_data"
    }
   ],
   "source": [
    "# Find percentage people in each gender and race group and check the percentage earning > 50k/year\n",
    "gb_race = df.groupby([\"group\", \"Race\"])[\"label\"].mean().unstack()\n",
    "\n",
    "print(gb_race)\n",
    "\n",
    "# Plot the bar chart using Seaborn\n",
    "sns.set_style(\"whitegrid\")\n",
    "ax = gb_race.plot(kind=\"bar\")\n",
    "\n",
    "# Set labels and title\n",
    "ax.set_xlabel(\"Gender and Race\")\n",
    "ax.set_ylabel(\"Proportion of Respondents\")\n",
    "ax.set_title(\"Proportion of Respondents Earning > 50k per Year by Gender and Race\")\n",
    "\n",
    "# Set custom tick labels for gender and race\n",
    "ax.set_xticklabels([\"Male\", \"Female\"], rotation=45)\n",
    "\n",
    "# Show the plot\n",
    "plt.show()"
   ]
  },
  {
   "cell_type": "markdown",
   "id": "b8151a03-5fed-47e9-9288-fbe4f39d1123",
   "metadata": {},
   "source": [
    "This graph shows the percentage of people in each group that earn above 50k/year. As we can see there is a huge descrepancy between asian and white respondents and black respondents. Because we are training on racial data, I think it is important to note that such an algorithm could be exptremely problematic because race is being directly used as a factor to predict income."
   ]
  },
  {
   "cell_type": "markdown",
   "id": "f178d006-fd4a-4337-b188-80152f2ca8c7",
   "metadata": {},
   "source": [
    "# Training Model\n",
    "\n",
    "Now that my data is prepared, its time to train the model! I will be using `sklearn`'s logistic regression model."
   ]
  },
  {
   "cell_type": "code",
   "execution_count": 194,
   "id": "3cd239f4-6424-4821-a33d-d1267c19a31c",
   "metadata": {},
   "outputs": [
    {
     "name": "stdout",
     "output_type": "stream",
     "text": [
      "Overall accuracy = 0.7693\n",
      "\n",
      "Confusion matrix =\n",
      " [[1626  473]\n",
      " [ 440 1418]]\n",
      "\n",
      "PPV = 0.7499\n",
      "FPR = 0.2253\n",
      "FNR = 0.2368\n"
     ]
    }
   ],
   "source": [
    "from sklearn.linear_model import LogisticRegression\n",
    "from sklearn.pipeline import make_pipeline\n",
    "from sklearn.preprocessing import StandardScaler\n",
    "from sklearn.metrics import classification_report, confusion_matrix\n",
    "\n",
    "model = make_pipeline(StandardScaler(), LogisticRegression())\n",
    "model.fit(X_train, y_train)\n",
    "\n",
    "y_hat = model.predict(X_test)\n",
    "\n",
    "acc = (y_hat == y_test).mean()\n",
    "cm = confusion_matrix(y_test, y_hat)\n",
    "\n",
    "print(f\"Overall accuracy = {acc.round(4)}\\n\")\n",
    "print(f\"Confusion matrix =\\n\", cm)\n",
    "\n",
    "TN = cm[0][0]\n",
    "FP = cm[0][1]\n",
    "FN = cm[1][0]\n",
    "TP = cm[1][1]\n",
    "\n",
    "PPV = TP/(FP+TP)\n",
    "FPR = FP/(FP+TN)\n",
    "FNR = FN/(FN+TP)\n",
    "\n",
    "print(f\"\\nPPV = {PPV.round(4)}\")\n",
    "print(f\"FPR = {FPR.round(4)}\")\n",
    "print(f\"FNR = {FNR.round(4)}\")"
   ]
  },
  {
   "cell_type": "markdown",
   "id": "9c031ff2-0142-4b23-9b80-73bd2d6ffb7f",
   "metadata": {},
   "source": [
    "Above we see that the accuracy of the of the model was around 77%. From the classification report we see that the precision (also known as positive predictive value) is 0.75. Furthermore, the false positve rate is 0.23 and the false negative rate is 0.24. This model does a pretty good job at predicting income categories based on demographic factors, excluding gender.\n",
    "\n",
    "# Auditing for Bias\n",
    "\n",
    "Now, I can test the acuraccy for male and female to see if there are any discrepencies in accuracy, PPV or false negative and positive rates."
   ]
  },
  {
   "cell_type": "code",
   "execution_count": 195,
   "id": "081f7a36-24f3-4700-8119-4f8df7234d1f",
   "metadata": {},
   "outputs": [
    {
     "name": "stdout",
     "output_type": "stream",
     "text": [
      "Male accuracy = 0.78973346\n",
      "\n",
      "Confusion matrix =\n",
      " [[735 166]\n",
      " [260 865]]\n",
      "\n",
      "PPV = 0.839\n",
      "FPR = 0.1842\n",
      "FNR = 0.2311\n",
      "\n",
      "Female accuracy = 0.74779907\n",
      "\n",
      "Confusion matrix =\n",
      " [[891 307]\n",
      " [180 553]]\n",
      "\n",
      "PPV = 0.643\n",
      "FPR = 0.2563\n",
      "FNR = 0.2456\n"
     ]
    }
   ],
   "source": [
    "acc_male = (y_hat == y_test)[group_test == 1].mean()\n",
    "acc_fem = (y_hat == y_test)[group_test == 2].mean()\n",
    "y_test_male, y_hat_male = y_test[group_test == 1], y_hat[group_test == 1]\n",
    "y_test_fem, y_hat_fem = y_test[group_test == 2], y_hat[group_test == 2]\n",
    "\n",
    "cm_m = confusion_matrix(y_test_male, y_hat_male)\n",
    "print(f\"Male accuracy = {acc_male.round(8)}\\n\")\n",
    "print(f\"Confusion matrix =\\n\", cm_m)\n",
    "\n",
    "TN_m = cm_m[0][0]\n",
    "FP_m = cm_m[0][1]\n",
    "FN_m = cm_m[1][0]\n",
    "TP_m = cm_m[1][1]\n",
    "\n",
    "PPV_m = TP_m/(FP_m+TP_m)\n",
    "FPR_m = FP_m/(FP_m+TN_m)\n",
    "FNR_m = FN_m/(FN_m+TP_m)\n",
    "\n",
    "print(f\"\\nPPV = {PPV_m.round(4)}\")\n",
    "print(f\"FPR = {FPR_m.round(4)}\")\n",
    "print(f\"FNR = {FNR_m.round(4)}\")\n",
    "\n",
    "cm_f = confusion_matrix(y_test_fem, y_hat_fem)\n",
    "print(f\"\\nFemale accuracy = {acc_fem.round(8)}\\n\")\n",
    "print(f\"Confusion matrix =\\n\", cm_f)\n",
    "\n",
    "TN_f = cm_f[0][0]\n",
    "FP_f = cm_f[0][1]\n",
    "FN_f = cm_f[1][0]\n",
    "TP_f = cm_f[1][1]\n",
    "\n",
    "PPV_f = TP_f/(FP_f+TP_f)\n",
    "FPR_f = FP_f/(FP_f+TN_f)\n",
    "FNR_f = FN_f/(FN_f+TP_f)\n",
    "\n",
    "print(f\"\\nPPV = {PPV_f.round(4)}\")\n",
    "print(f\"FPR = {FPR_f.round(4)}\")\n",
    "print(f\"FNR = {FNR_f.round(4)}\")"
   ]
  },
  {
   "cell_type": "markdown",
   "id": "9b2bb654-4994-4950-9906-a326fd0845cb",
   "metadata": {},
   "source": [
    "As we can see, the acuracy for this model is significantly higher when predicting income for males than females. On top of that, the positive predictive value (PPV or precision) is way higher for males than females. Furthuremore, the false positive rate is significantly higher for women than for men. The false negative rate is also higher for females, but to a lesser extent."
   ]
  },
  {
   "cell_type": "markdown",
   "id": "a00eb0c5-f6a5-4eaf-8f0b-e42ee48c0b6c",
   "metadata": {},
   "source": [
    "## Bias measures discussion\n",
    "\n",
    "#### Error Rate Balance\n",
    "\n",
    "From above we see that there is a large discrepancy between the false positive error rates between males and femailes. That means that this model does not pass the error rate balance test. \n",
    "\n",
    "#### Calibration\n",
    "\n",
    "Below, I calculated and plotted the fraction of respondents whose predicted income was over 50k/year that actually had an income over 50k/year:"
   ]
  },
  {
   "cell_type": "code",
   "execution_count": 196,
   "id": "858af856-0f3a-4840-85ee-bbadae414b4e",
   "metadata": {},
   "outputs": [
    {
     "name": "stdout",
     "output_type": "stream",
     "text": [
      "[[0.26130653 0.16806723]\n",
      " [0.83899127 0.64302326]]\n"
     ]
    },
    {
     "data": {
      "image/png": "[encoded data removed]",
      "text/plain": [
       "<Figure size 640x480 with 1 Axes>"
      ]
     },
     "metadata": {},
     "output_type": "display_data"
    }
   ],
   "source": [
    "df_male = pd.DataFrame(np.array([y_test_male, y_hat_male]).T, columns=[\"income\", \"income_pred\"])\n",
    "df_fem = pd.DataFrame(np.array([y_test_fem, y_hat_fem]).T, columns=[\"income\", \"income_pred\"])\n",
    "\n",
    "gb_m = df_male.groupby([\"income_pred\"])[\"income\"].mean()\n",
    "gb_f = df_fem.groupby([\"income_pred\"])[\"income\"].mean()\n",
    "\n",
    "calibration = [[gb_m[0], gb_f[0]],\n",
    "               [gb_m[1], gb_f[1]]]\n",
    "\n",
    "print(np.matrix(calibration))\n",
    "\n",
    "df_calib = pd.DataFrame(calibration, columns=['Male', 'Female'], index=['False', 'True'])\n",
    "df_calib = df_calib.reset_index().melt('index')\n",
    "\n",
    "# Plot the bar chart using Seaborn\n",
    "sns.set_style(\"whitegrid\")\n",
    "ax = sns.barplot(x='index', y='value', hue='variable', data=df_calib)\n",
    "\n",
    "# Set labels and title\n",
    "ax.set_xlabel('Predicted income >50k/year')\n",
    "ax.set_ylabel('Percent >50k/year')\n",
    "ax.set_title('Calibration of Predicted Values by Gender')\n",
    "\n",
    "# Show the plot\n",
    "plt.show()"
   ]
  },
  {
   "cell_type": "markdown",
   "id": "3833697a-996e-4f17-85ca-deb1f5c6acb1",
   "metadata": {},
   "source": [
    "As we can see our model is not that well calibrated. The odds that a female who is predicted to have an income above 50k/year actualy has that income is around 64%, whereas for males that number is 84%. Interestingly, this calibration shows somewhat of a bias towards females because women who are predicted to have higher incomes are more likely than men to actually earn less than 50k/year.\n",
    "\n",
    "#### Statistical Parity\n",
    "\n",
    "Below I calculated the percentage of each gender group that was predicted to have an income over 50k/year."
   ]
  },
  {
   "cell_type": "code",
   "execution_count": 208,
   "id": "3125a43b-3573-4116-90c1-b1a34045595c",
   "metadata": {},
   "outputs": [
    {
     "name": "stdout",
     "output_type": "stream",
     "text": [
      "Male acceptance rate = 0.5089\n",
      "Feale acceptance rate = 0.4454\n"
     ]
    }
   ],
   "source": [
    "print(f\"Male acceptance rate = {(y_hat_male.sum()/len(y_test_male)).round(4)}\")\n",
    "print(f\"Feale acceptance rate = {(y_hat_fem.sum()/len(y_test_fem)).round(4)}\")"
   ]
  },
  {
   "cell_type": "markdown",
   "id": "59e34bd6-b40b-4464-bbc1-74547d7ae022",
   "metadata": {},
   "source": [
    "As we can see, there is also a significant discrepancy for statistical parity that shows bias against women. The algorithm predicts more women to fall into the lower income bracket."
   ]
  },
  {
   "cell_type": "markdown",
   "id": "6c9e117f-142e-4921-acbd-091916288ac9",
   "metadata": {},
   "source": [
    "# Concluding Discussion\n",
    "\n",
    "**What groups of people could stand to benefit from a system that is able to predict the label you predicted, such as income or employment status? For example, what kinds of companies might want to buy your model for commercial use?**\n",
    "\n",
    "There are multiple ways that a model that predicts income based on demographic feature could be used. Here are two ideas I had:\n",
    "\n",
    "1. Companies could use income prediction algorithms to tailor their marketing strategies and campaigns. By understanding the income levels of their target audience, businesses can customize their offerings, pricing, and promotional activities to better suit the preferences and purchasing power of different income groups.\n",
    "\n",
    "2. Human resources departments could use income prediction models when assessing job applicants. Through such algorithm, employers can gain insights into a candidate's potential salary expectations. This information could help inform job offers.\n",
    "\n",
    "3. Governments and policymakers could utilize income prediction algorithms to plan and evaluate social policies. For instance, by estimating income levels for a specific population, policymakers can identify groups that may require targeted support.\n",
    "\n",
    "**Based on your bias audit, what could be the impact of deploying your model for large-scale prediction in commercial or governmental settings?**\n",
    "\n",
    "1. This case would be the least problematic in my opinion. Nevertheless, the bias in my algorithm could lead companies marketing more \"incorrect\" products to women than men.\n",
    "\n",
    "2. This case could prove detrimental. Bias in an algorithm that predicts income in the case of hiring could mean that women would be offered a lower salary upon accepting a job. My algorithm did not pass the statistical parity test, meaning that it more often places women in the lower income bracket. Nevertheless, in the calibration section, women were predicted to have higher incomes were more likely than men to be in the lower income bracket. I would argue that statistical parity matters more in this case because the effect of a negative prediction is worse than the effect of a positive prediction.\n",
    "\n",
    "3. This could also prove detrimental. If a government wrongly predicts the amount of need for a certain individual or comunity, they may be unable to povide the proper services. In this case the low acceptace rate for women in the statistical parity test coul actually mean that many women wouldn't get the services they need because their income is being predicted too high.\n",
    "\n",
    "**Based on your bias audit, do you feel that your model displays problematic bias? What kind (calibration, error rate, etc)?**\n",
    "\n",
    "All of the bias audits were unsucessful and therefore I would conclude that this algorithm is demonstrates a highly problematic amount of bias and probably should not be utilized. It showed bias in calibration, error rate and statistical parity.\n",
    "\n",
    "**Beyond bias, are there other potential problems associated with deploying your model that make you uncomfortable? How would you propose addressing some of these problems?**\n",
    "\n",
    "Yes, as I said before, this model uses race as a predictor. I think this is highly problematic. There may be cases where race could be used as a predictor, perhaps for an algorithm that predicts certain medical conditions that may vary in prevelance between different races.\n",
    "\n",
    "On top of that, I think that this algorithm would just further the salary discrepancies we see between men and women today. I think that that is one of the biggest issues with predictive algorithms like these. They use data that shows trends based on a history of discrimination and opression and deppen those trends by predicting outcomes based on demographics without ackgnowledging the myriad of historical factors that created those outcomes."
   ]
  },
  {
   "cell_type": "code",
   "execution_count": null,
   "id": "20ccaffb-7dc0-4797-8b3d-2e8551e02fae",
   "metadata": {},
   "outputs": [],
   "source": []
  }
 ],
 "metadata": {
  "kernelspec": {
   "display_name": "Python [conda env:ml-0451] *",
   "language": "python",
   "name": "conda-env-ml-0451-py"
  },
  "language_info": {
   "codemirror_mode": {
    "name": "ipython",
    "version": 3
   },
   "file_extension": ".py",
   "mimetype": "text/x-python",
   "name": "python",
   "nbconvert_exporter": "python",
   "pygments_lexer": "ipython3",
   "version": "3.9.13"
  }
 },
 "nbformat": 4,
 "nbformat_minor": 5
}
