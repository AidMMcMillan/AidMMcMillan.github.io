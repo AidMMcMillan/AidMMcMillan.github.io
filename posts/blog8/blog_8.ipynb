{
 "cells": [
  {
   "cell_type": "raw",
   "id": "11bdbd53-984f-472e-881b-3613f0b882a6",
   "metadata": {},
   "source": [
    "---\n",
    "title: \"Blog 8: Learning From Dr. Timnit Gebru\"\n",
    "author: Aidan McMillan\n",
    "date: '2023-04-20'\n",
    "categories:\n",
    "    - Weekly Blogs\n",
    "image: \"image.jpg\"\n",
    "description: \"Blog post on Timnit Gebru's virtual visit to Middlebury College.\"\n",
    "format: html\n",
    "---"
   ]
  },
  {
   "cell_type": "markdown",
   "id": "676a4bc7-d3b3-4979-acea-5153d1b82f1b",
   "metadata": {},
   "source": [
    "# Dr. Timnit Gebru at Middlebury College\n",
    "\n",
    "### What is happening?\n",
    "\n",
    "On Monday, 4/21 **Dr. Timnit Gebru** will be joining our class via Zoom to have a discussion with us about her research and areas of expertise. Later that night, she will be doing a talk open to all where she will discuss the topic of “Eugenics and the Promise of Utopia through Artificial General Intelligence.\n",
    "\n",
    "### Who is Dr. Timnit Gebru?\n",
    "\n",
    "Dr. Timnit Gebru is a **computer scientist** and **AI researcher**. A lot of her work focuses on ethical considerations of AI, especially as it relates to **machine bias**. She is a leading advocate for BIPOC in computer science. After taking note of the extreme lack of diversity in the field while attending an annual AI conference, she co-founded *Black in AI*, a community of Black researchers in the field of AI.\n",
    "\n",
    "Gebru has published research on a variety of topics related to AI, including bias in facial recognition technology and the lack of diversity in AI datasets. She is also recognized for her paper titled “On the Dangers of Stochastic Parrots: Can Language Models Be Too Big?” where she writes about the possible risks of large language models like GPT-3 such as its environmental impacts, concentration of power, amplification of bias and threats to privacy. \n",
    "\n",
    "Allegedly, the contents of that article and her expression of concerns over Google’s workforce diversity lead to her being fired from her position at Google as a research scientist and co-leader of the Ethical AI team. Since then, she has launched her own institute called the **Distributed Artificial Intelligence Research Institute (DAIR)** in order to further her research on the effects of AI on marginalized communities, specifically people of African descent.\n",
    "\n",
    "### Summary of Talk at Conference on Computer Vision and Pattern Recognition 2020\n",
    "\n",
    "In her talk “Computer vision in practice: who is benefiting and who is being harmed?” Dr.  Gebru discusses the issues of machine bias in the computer vision field. She specifically discussed the problematic nature of using facial analysis softwares in hiring decisions and criminal justice. She then discussed the issues with the lack of diversity in data sets and how that can cause problems. On top of that, many organizations use dubious methods to scrape data on darker skinned faces and often in the process use that data in algorithms that do not benefit those people. Finally, she discusses the lack of diversity in the people who are behind creating these algorithms.\n",
    "\n",
    "tl:dr Computer vision has many ethical drawbacks especially when it comes to racial disparities in facial recognition software, something that can further marginalize already marginalized communities.\n",
    "\n",
    "### Question for Dr. Gebru\n",
    "\n",
    "In 2020, your firing from Google sparked a widespread debate about the need for greater transparency and accountability in the tech industry. What changes do you think must be made in the industry to ensure that AI technology, and specifically large speech models such as GPT-3, are developed and deployed in both a responsible and ethical way?"
   ]
  },
  {
   "cell_type": "code",
   "execution_count": null,
   "id": "e3a9d141-e6fa-4543-a7fa-6b34c915ba6e",
   "metadata": {},
   "outputs": [],
   "source": []
  }
 ],
 "metadata": {
  "kernelspec": {
   "display_name": "Python [conda env:ml-0451] *",
   "language": "python",
   "name": "conda-env-ml-0451-py"
  },
  "language_info": {
   "codemirror_mode": {
    "name": "ipython",
    "version": 3
   },
   "file_extension": ".py",
   "mimetype": "text/x-python",
   "name": "python",
   "nbconvert_exporter": "python",
   "pygments_lexer": "ipython3",
   "version": "3.9.13"
  }
 },
 "nbformat": 4,
 "nbformat_minor": 5
}
